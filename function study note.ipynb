{
 "cells": [
  {
   "cell_type": "markdown",
   "id": "2b74b08b",
   "metadata": {},
   "source": [
    "### creating functions in python"
   ]
  },
  {
   "cell_type": "code",
   "execution_count": 6,
   "id": "afc1937c",
   "metadata": {},
   "outputs": [
    {
     "name": "stdout",
     "output_type": "stream",
     "text": [
      "number 1: 2\n",
      "number 2: 4\n",
      "6\n"
     ]
    }
   ],
   "source": [
    "def add(num1, num2):\n",
    "    print(\"number 1:\", num1)\n",
    "    print(\"number 2:\", num2)\n",
    "    addition = num1 + num2\n",
    "    \n",
    "    return addition\n",
    "res = add(2, 4)\n",
    "print(res)"
   ]
  },
  {
   "cell_type": "code",
   "execution_count": 9,
   "id": "4e816d0f",
   "metadata": {},
   "outputs": [
    {
     "name": "stdout",
     "output_type": "stream",
     "text": [
      "odd number\n"
     ]
    }
   ],
   "source": [
    "def even_odd(n):\n",
    "    if n % 2 == 0:\n",
    "        print('Even number')\n",
    "    else:\n",
    "        print('odd number')\n",
    "even_odd(23)"
   ]
  },
  {
   "cell_type": "code",
   "execution_count": 10,
   "id": "73e64353",
   "metadata": {},
   "outputs": [
    {
     "name": "stdout",
     "output_type": "stream",
     "text": [
      "even numbers are: [2, 42, 62, 70]\n"
     ]
    }
   ],
   "source": [
    "def is_even(list1):\n",
    "    even_num = []\n",
    "    for n in list1:\n",
    "        if n % 2 == 0:\n",
    "            even_num.append(n)\n",
    "    return even_num\n",
    "even_num = is_even([2, 3, 42, 51, 62, 70, 5, 9])\n",
    "print(\"even numbers are:\", even_num)"
   ]
  },
  {
   "cell_type": "code",
   "execution_count": null,
   "id": "256c3c7d",
   "metadata": {},
   "outputs": [],
   "source": []
  }
 ],
 "metadata": {
  "kernelspec": {
   "display_name": "Python 3 (ipykernel)",
   "language": "python",
   "name": "python3"
  },
  "language_info": {
   "codemirror_mode": {
    "name": "ipython",
    "version": 3
   },
   "file_extension": ".py",
   "mimetype": "text/x-python",
   "name": "python",
   "nbconvert_exporter": "python",
   "pygments_lexer": "ipython3",
   "version": "3.9.7"
  }
 },
 "nbformat": 4,
 "nbformat_minor": 5
}
