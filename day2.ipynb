{
 "cells": [
  {
   "cell_type": "code",
   "execution_count": 1,
   "id": "7cbdf21c",
   "metadata": {},
   "outputs": [
    {
     "name": "stdout",
     "output_type": "stream",
     "text": [
      "ami\n"
     ]
    }
   ],
   "source": [
    "#to find the index for a string\n",
    "x = \"amie\"\n",
    "print(x[0:-1])"
   ]
  },
  {
   "cell_type": "code",
   "execution_count": 2,
   "id": "51bfc575",
   "metadata": {},
   "outputs": [
    {
     "data": {
      "text/plain": [
       "2"
      ]
     },
     "execution_count": 2,
     "metadata": {},
     "output_type": "execute_result"
    }
   ],
   "source": [
    "x.index('i')"
   ]
  },
  {
   "cell_type": "code",
   "execution_count": 3,
   "id": "f8c5fbfe",
   "metadata": {},
   "outputs": [
    {
     "name": "stdout",
     "output_type": "stream",
     "text": [
      "['susan', 'ayo', 'bola']\n"
     ]
    }
   ],
   "source": [
    "#it counts the first variable of the string as 0\n",
    "p = [\"amie\", \"janet\", \"susan\", \"ayo\", \"bola\"]\n",
    "index_val = p.index(\"janet\")\n",
    "y_val = p[index_val+1:]\n",
    "print(y_val)"
   ]
  },
  {
   "cell_type": "code",
   "execution_count": 4,
   "id": "b2214ccb",
   "metadata": {},
   "outputs": [
    {
     "name": "stdout",
     "output_type": "stream",
     "text": [
      "['amie']\n"
     ]
    }
   ],
   "source": [
    "z_val = p[:index_val]\n",
    "print(z_val)"
   ]
  },
  {
   "cell_type": "code",
   "execution_count": 5,
   "id": "eb9caa64",
   "metadata": {},
   "outputs": [
    {
     "name": "stdout",
     "output_type": "stream",
     "text": [
      "angel and funmi\n"
     ]
    }
   ],
   "source": [
    "d = [\"juan\", \"kate\", \"mitchell\", \"funmi\", \"angel\", \"ada\", \"lola\", \"joy\"]\n",
    "count_avg = int(len(d)/2)\n",
    "new_count_avg = count_avg - 1\n",
    "\n",
    "if len(d)%2 !=0:\n",
    "    print(d[count_avg])\n",
    "    \n",
    "else:\n",
    "    med_val = d[count_avg]\n",
    "    val_med = d[new_count_avg]\n",
    "    print(f\"{med_val} and {val_med}\")"
   ]
  },
  {
   "cell_type": "code",
   "execution_count": 6,
   "id": "4c5282c4",
   "metadata": {},
   "outputs": [
    {
     "name": "stdout",
     "output_type": "stream",
     "text": [
      "[3, 6, 'jane', 'bella', 'daniel']\n"
     ]
    }
   ],
   "source": [
    "arr1 = [3,6, \"jane\", \"bella\"]\n",
    "arr1.append(\"daniel\")\n",
    "print(arr1)"
   ]
  },
  {
   "cell_type": "code",
   "execution_count": 7,
   "id": "e80ba2e8",
   "metadata": {},
   "outputs": [
    {
     "name": "stdout",
     "output_type": "stream",
     "text": [
      "[3, 6, 'jane', 'bella', ['tola', 'madu']]\n"
     ]
    }
   ],
   "source": [
    "arr1 = [3,6, \"jane\", \"bella\"]\n",
    "arr2 = [\"tola\", \"madu\"]\n",
    "arr1.append(arr2)\n",
    "print(arr1)"
   ]
  },
  {
   "cell_type": "code",
   "execution_count": 8,
   "id": "44b5bfef",
   "metadata": {},
   "outputs": [
    {
     "name": "stdout",
     "output_type": "stream",
     "text": [
      "[3, 6, 'jane', 'bella', ['tola', 'madu'], 'tola', 'madu']\n"
     ]
    }
   ],
   "source": [
    "print(arr1 + arr2)"
   ]
  },
  {
   "cell_type": "code",
   "execution_count": 15,
   "id": "766f4cb0",
   "metadata": {},
   "outputs": [
    {
     "name": "stdout",
     "output_type": "stream",
     "text": [
      "teni\n",
      "tiwa\n",
      "tems\n",
      "rihanna\n"
     ]
    }
   ],
   "source": [
    "array1 = [\"teni\", \"tiwa\", \"tems\", \"rihanna\"]\n",
    "for i in array1:\n",
    "    print(i)"
   ]
  },
  {
   "cell_type": "code",
   "execution_count": 16,
   "id": "e894cc1a",
   "metadata": {},
   "outputs": [
    {
     "name": "stdout",
     "output_type": "stream",
     "text": [
      "rihanna\n"
     ]
    }
   ],
   "source": [
    "array1 = \"teni\", \"tiwa\", \"tems\", \"rihanna\"\n",
    "for i in array1:\n",
    "    if i[0] == \"r\":\n",
    "        print(i)"
   ]
  },
  {
   "cell_type": "code",
   "execution_count": 18,
   "id": "443c6b39",
   "metadata": {},
   "outputs": [
    {
     "name": "stdout",
     "output_type": "stream",
     "text": [
      "['rihanna']\n"
     ]
    }
   ],
   "source": [
    "r_names = []\n",
    "array1 = [\"teni\", \"tiwa\", \"tems\", \"rihanna\"]\n",
    "for i in array1:\n",
    "    if i[0] == \"r\":\n",
    "        r_names.append(i)\n",
    "        print(r_names)"
   ]
  },
  {
   "cell_type": "code",
   "execution_count": 20,
   "id": "1fe31b90",
   "metadata": {},
   "outputs": [
    {
     "name": "stdout",
     "output_type": "stream",
     "text": [
      "Jacob\n",
      "Obi\n",
      "Moses\n",
      "Victor\n",
      "['Jacob', 'Obi', 'Moses', 'Victor']\n"
     ]
    }
   ],
   "source": [
    "#to change from lower case to upper case for first letters\n",
    "new_surnames =[]\n",
    "array_names = [\"jacob\", \"obi\", \"moses\", \"victor\"]\n",
    "\n",
    "for i in array_names:\n",
    "    cap_names = i[0].upper() + i[1:]\n",
    "    new_surnames.append(cap_names)\n",
    "    print(cap_names)\n",
    "print(new_surnames)"
   ]
  },
  {
   "cell_type": "code",
   "execution_count": 21,
   "id": "5912ea0c",
   "metadata": {},
   "outputs": [
    {
     "name": "stdout",
     "output_type": "stream",
     "text": [
      "['teni', 'tiwa', 'tems', 'rihanna']\n",
      "Jacob teni\n",
      "Obi tiwa\n",
      "Moses tems\n",
      "Victor rihanna\n"
     ]
    }
   ],
   "source": [
    "# to join names\n",
    "print (array1)\n",
    "\n",
    "for i in range(0, len(array1)):\n",
    "    fullnames = f\"{new_surnames[i]} {array1[i]}\"\n",
    "    print(fullnames)"
   ]
  },
  {
   "cell_type": "code",
   "execution_count": 23,
   "id": "475a4f80",
   "metadata": {},
   "outputs": [
    {
     "name": "stdout",
     "output_type": "stream",
     "text": [
      "True\n",
      "True\n",
      "True\n"
     ]
    }
   ],
   "source": [
    "# to select a string from an array\n",
    "#str stands for string\n",
    "\n",
    "element =[\"hannah\", \"shalom\", 10, 15, \"design\"]\n",
    "for i in element:\n",
    "    test = isinstance(i, str)\n",
    "    if test == True:\n",
    "       print(test)"
   ]
  },
  {
   "cell_type": "code",
   "execution_count": 24,
   "id": "286cb38b",
   "metadata": {},
   "outputs": [
    {
     "name": "stdout",
     "output_type": "stream",
     "text": [
      "hannah\n",
      "shalom\n",
      "design\n"
     ]
    }
   ],
   "source": [
    "element = [\"hannah\", \"shalom\", 10, 15, \"design\"]\n",
    "for i in element:\n",
    "    test = isinstance(i, str)\n",
    "    if test == True:\n",
    "       print(i)"
   ]
  },
  {
   "cell_type": "code",
   "execution_count": 25,
   "id": "8d21bfc5",
   "metadata": {},
   "outputs": [
    {
     "data": {
      "text/plain": [
       "str"
      ]
     },
     "execution_count": 25,
     "metadata": {},
     "output_type": "execute_result"
    }
   ],
   "source": [
    "type(\"hannah\")"
   ]
  },
  {
   "cell_type": "code",
   "execution_count": 26,
   "id": "21cdfcc7",
   "metadata": {},
   "outputs": [
    {
     "name": "stdout",
     "output_type": "stream",
     "text": [
      "10\n",
      "15\n"
     ]
    }
   ],
   "source": [
    "for i in element:\n",
    "    p =type(i)\n",
    "    if p ==int:\n",
    "        print(i)"
   ]
  },
  {
   "cell_type": "code",
   "execution_count": 29,
   "id": "81228330",
   "metadata": {},
   "outputs": [
    {
     "name": "stdout",
     "output_type": "stream",
     "text": [
      "yes they are all strings\n"
     ]
    }
   ],
   "source": [
    "new_list = []\n",
    "d =[\"juan\", \"kate\", \"mitchell\", \"funmi\", \"angel\", \"ada\", \"lola\", \"joy\"]\n",
    "for i in d:\n",
    "    k = type(i)\n",
    "    if k == str:\n",
    "       new_list.append(i)\n",
    "if len(new_list)==len(d):\n",
    "    print(\"yes they are all strings\")\n",
    "else:\n",
    "    print(\"No, they are not all strings\")"
   ]
  },
  {
   "cell_type": "code",
   "execution_count": 30,
   "id": "5fb0c59b",
   "metadata": {},
   "outputs": [
    {
     "name": "stdout",
     "output_type": "stream",
     "text": [
      "No, they are not all strings\n"
     ]
    }
   ],
   "source": [
    "new_list = []\n",
    "d =[\"juan\",10, \"kate\", \"mitchell\", \"funmi\", \"angel\", \"ada\", \"lola\", \"joy\"]\n",
    "for i in d:\n",
    "    k = type(i)\n",
    "    if k == str:\n",
    "       new_list.append(i)\n",
    "if len(new_list)==len(d):\n",
    "    print(\"yes they are all strings\")\n",
    "else:\n",
    "    print(\"No, they are not all strings\")"
   ]
  },
  {
   "cell_type": "code",
   "execution_count": null,
   "id": "e32d4759",
   "metadata": {},
   "outputs": [],
   "source": []
  }
 ],
 "metadata": {
  "kernelspec": {
   "display_name": "Python 3 (ipykernel)",
   "language": "python",
   "name": "python3"
  },
  "language_info": {
   "codemirror_mode": {
    "name": "ipython",
    "version": 3
   },
   "file_extension": ".py",
   "mimetype": "text/x-python",
   "name": "python",
   "nbconvert_exporter": "python",
   "pygments_lexer": "ipython3",
   "version": "3.9.7"
  }
 },
 "nbformat": 4,
 "nbformat_minor": 5
}
