{
 "cells": [
  {
   "cell_type": "code",
   "execution_count": 1,
   "id": "e9e962b8",
   "metadata": {},
   "outputs": [
    {
     "name": "stdout",
     "output_type": "stream",
     "text": [
      "hello guys\n"
     ]
    }
   ],
   "source": [
    "print(\"hello guys\")"
   ]
  },
  {
   "cell_type": "code",
   "execution_count": 2,
   "id": "621f63c8",
   "metadata": {},
   "outputs": [
    {
     "name": "stdout",
     "output_type": "stream",
     "text": [
      "30\n"
     ]
    }
   ],
   "source": [
    "x = 10\n",
    "y = 20\n",
    "print(x+y)"
   ]
  },
  {
   "cell_type": "code",
   "execution_count": 3,
   "id": "1a418842",
   "metadata": {},
   "outputs": [
    {
     "name": "stdout",
     "output_type": "stream",
     "text": [
      " x plus y is = 30\n"
     ]
    }
   ],
   "source": [
    "print(f\" x plus y is = {x+y}\")"
   ]
  },
  {
   "cell_type": "code",
   "execution_count": 4,
   "id": "5b6e4da8",
   "metadata": {},
   "outputs": [
    {
     "name": "stdout",
     "output_type": "stream",
     "text": [
      "\n",
      "Hello Alex,\n",
      "you've got this, and you can do it.\n",
      "keep at it!\n",
      "\n"
     ]
    }
   ],
   "source": [
    "print(f\"\"\"\n",
    "Hello Alex,\n",
    "you've got this, and you can do it.\n",
    "keep at it!\n",
    "\"\"\")"
   ]
  },
  {
   "cell_type": "code",
   "execution_count": 5,
   "id": "420fe71d",
   "metadata": {},
   "outputs": [
    {
     "name": "stdout",
     "output_type": "stream",
     "text": [
      "enter the name: oma\n",
      "enter the year born: 1996\n",
      "\n",
      "      Hellooma,\n",
      "      the computer calculated your age to be 26.0,\n",
      "      hope yor input ws entered correctly.\n",
      "\n"
     ]
    }
   ],
   "source": [
    "name = input(\"enter the name: \")\n",
    "year = float(input(\"enter the year born: \"))\n",
    "age = 2022 - year\n",
    "print(f\"\"\"\n",
    "      Hello{name},\n",
    "      the computer calculated your age to be {age},\n",
    "      hope yor input ws entered correctly.\n",
    "\"\"\")\n"
   ]
  },
  {
   "cell_type": "code",
   "execution_count": 10,
   "id": "c1b51196",
   "metadata": {},
   "outputs": [
    {
     "name": "stdout",
     "output_type": "stream",
     "text": [
      "enter temperature value: 35\n",
      "enter unit (f/c): f\n",
      "the temperature value from fahr to cel is 1.667celcuis\n"
     ]
    }
   ],
   "source": [
    "temp_val = float(input(\"enter temperature value: \"))\n",
    "unit = input(\"enter unit (f/c): \").lower()\n",
    "\n",
    "if unit ==\"f\":\n",
    "    temp_fahr = round((5/9) * (temp_val -32), 3)\n",
    "    print(f\"the temperature value from fahr to cel is {temp_fahr}celcuis\")\n",
    "elif unit == \"c\":\n",
    "    temp_cel = round((9/5)*(temp_val +32), 3)\n",
    "    print(f\"the temperature value from cel to fahr is {temp_cel}celcius\")\n",
    "else:\n",
    "        print(\"input not understood\")"
   ]
  },
  {
   "cell_type": "code",
   "execution_count": 14,
   "id": "28fe83f2",
   "metadata": {},
   "outputs": [
    {
     "name": "stdout",
     "output_type": "stream",
     "text": [
      "the default units are lbs and ft\n",
      "enter weight value: 70\n",
      "enter weight unit; lbs\n",
      "enter height value: 5.7\n",
      "enter height unit: ft\n",
      "bmi value of 2.154509079716836 too low\n"
     ]
    }
   ],
   "source": [
    "print(\"the default units are lbs and ft\")\n",
    "weight = float(input('enter weight value: '))\n",
    "unit_weight = input('enter weight unit; ')\n",
    "height = float(input('enter height value: '))\n",
    "height_unit = input('enter height unit: ')\n",
    "\n",
    "if unit_weight == 'lbs' and height_unit == 'ft':\n",
    "    bmi = weight/(height**2)\n",
    "    if bmi >= 1.5 and bmi <= 2.5:\n",
    "        print(f\"bmi value of {bmi} too low\")\n",
    "elif bmi >=2.6 and bmi <= 5.5:\n",
    "            print(f\"bmi value {bmi} is challenging\")\n",
    "            #print(f\"{bmi}lbs/ft2)\n",
    "elif unit_weight == \"kg\" and height_unit ==\"m\":\n",
    "    bmi = (weight/2.204) /((height/3.281)**2)\n",
    "    print(f\"{bmi}kg/m2\")\n",
    "else:\n",
    "    print(\"conversion not available or input incorrect\")\n",
    "    \n",
    "          \n"
   ]
  },
  {
   "cell_type": "code",
   "execution_count": null,
   "id": "a8989717",
   "metadata": {},
   "outputs": [],
   "source": []
  }
 ],
 "metadata": {
  "kernelspec": {
   "display_name": "Python 3 (ipykernel)",
   "language": "python",
   "name": "python3"
  },
  "language_info": {
   "codemirror_mode": {
    "name": "ipython",
    "version": 3
   },
   "file_extension": ".py",
   "mimetype": "text/x-python",
   "name": "python",
   "nbconvert_exporter": "python",
   "pygments_lexer": "ipython3",
   "version": "3.9.7"
  }
 },
 "nbformat": 4,
 "nbformat_minor": 5
}
