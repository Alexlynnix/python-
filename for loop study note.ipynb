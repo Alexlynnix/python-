{
 "cells": [
  {
   "cell_type": "markdown",
   "id": "ecacec8e",
   "metadata": {},
   "source": [
    "### for loop\n"
   ]
  },
  {
   "cell_type": "code",
   "execution_count": 2,
   "id": "80744dcb",
   "metadata": {},
   "outputs": [
    {
     "name": "stdout",
     "output_type": "stream",
     "text": [
      "0\n",
      "1\n",
      "2\n",
      "3\n",
      "4\n",
      "5\n",
      "6\n",
      "7\n",
      "8\n",
      "9\n",
      "10\n"
     ]
    }
   ],
   "source": [
    "for i in range(10 + 1):\n",
    "    print(i)"
   ]
  },
  {
   "cell_type": "code",
   "execution_count": 3,
   "id": "7dbdbe97",
   "metadata": {},
   "outputs": [
    {
     "name": "stdout",
     "output_type": "stream",
     "text": [
      "2\n",
      "6\n",
      "12\n",
      "20\n",
      "30\n",
      "42\n",
      "56\n",
      "72\n",
      "90\n",
      "110\n"
     ]
    }
   ],
   "source": [
    "sum = 0\n",
    "for i in range(2, 22, 2):\n",
    "    sum = sum + i\n",
    "    print(sum)"
   ]
  },
  {
   "cell_type": "code",
   "execution_count": 4,
   "id": "6ec97fc0",
   "metadata": {},
   "outputs": [
    {
     "name": "stdout",
     "output_type": "stream",
     "text": [
      "square of: 1 is: 1\n",
      "square of: 2 is: 4\n",
      "square of: 3 is: 9\n",
      "square of: 4 is: 16\n",
      "square of: 5 is: 25\n"
     ]
    }
   ],
   "source": [
    "vals = [1, 2, 3, 4, 5]\n",
    "for i in vals:\n",
    "    sqr = i ** 2\n",
    "    print(\"square of:\", i, \"is:\", sqr)"
   ]
  },
  {
   "cell_type": "code",
   "execution_count": 5,
   "id": "7867c5eb",
   "metadata": {},
   "outputs": [
    {
     "name": "stdout",
     "output_type": "stream",
     "text": [
      "30.0\n"
     ]
    }
   ],
   "source": [
    "num_val = [10, 20, 30, 40, 50]\n",
    "sum = 0\n",
    "for i in num_val:\n",
    "    sum = sum + i\n",
    "avg = sum /len(num_val)\n",
    "print(avg)"
   ]
  },
  {
   "cell_type": "code",
   "execution_count": 6,
   "id": "32e86f73",
   "metadata": {},
   "outputs": [
    {
     "name": "stdout",
     "output_type": "stream",
     "text": [
      "Odd number: 1\n",
      "Even number: 2\n",
      "Odd number: 3\n",
      "Even number: 4\n",
      "Odd number: 5\n",
      "Even number: 6\n",
      "Odd number: 7\n",
      "Even number: 8\n",
      "Odd number: 9\n",
      "Even number: 10\n"
     ]
    }
   ],
   "source": [
    "for i in range(1, 11):\n",
    "    if i % 2 == 0:\n",
    "        print('Even number:', i)\n",
    "    else:\n",
    "        print('Odd number:', i)"
   ]
  },
  {
   "cell_type": "code",
   "execution_count": 9,
   "id": "f8e0e3ec",
   "metadata": {},
   "outputs": [
    {
     "name": "stdout",
     "output_type": "stream",
     "text": [
      "10\n",
      "12\n",
      "14\n",
      "16\n",
      "18\n",
      "20\n",
      "22\n",
      "24\n",
      "26\n",
      "28\n",
      "30\n",
      "32\n",
      "34\n",
      "36\n",
      "38\n",
      "40\n",
      "42\n",
      "44\n",
      "46\n",
      "48\n"
     ]
    }
   ],
   "source": [
    "for i in range(9, 50):\n",
    "    if i % 2 == 0:\n",
    "        print(i)\n"
   ]
  },
  {
   "cell_type": "code",
   "execution_count": 10,
   "id": "0b8e8607",
   "metadata": {},
   "outputs": [
    {
     "name": "stdout",
     "output_type": "stream",
     "text": [
      "9\n",
      "11\n",
      "13\n",
      "15\n",
      "17\n",
      "19\n",
      "21\n",
      "23\n",
      "25\n",
      "27\n",
      "29\n",
      "31\n",
      "33\n",
      "35\n",
      "37\n",
      "39\n",
      "41\n",
      "43\n",
      "45\n",
      "47\n",
      "49\n"
     ]
    }
   ],
   "source": [
    "for i in range(9, 50, 2):\n",
    "    print(i)"
   ]
  },
  {
   "cell_type": "markdown",
   "id": "2a0bda69",
   "metadata": {},
   "source": [
    "## using break in for loop"
   ]
  },
  {
   "cell_type": "code",
   "execution_count": 12,
   "id": "3bd13ed4",
   "metadata": {},
   "outputs": [
    {
     "name": "stdout",
     "output_type": "stream",
     "text": [
      "1\n",
      "4\n",
      "7\n",
      "8\n",
      "15\n"
     ]
    }
   ],
   "source": [
    "vals = [1, 4, 7, 8, 15, 20, 35, 45, 55]\n",
    "for i in vals:\n",
    "    if i > 15:\n",
    "        break\n",
    "    else:\n",
    "        print(i)"
   ]
  },
  {
   "cell_type": "markdown",
   "id": "ee0cc70d",
   "metadata": {},
   "source": [
    "## continue statement in for loop"
   ]
  },
  {
   "cell_type": "code",
   "execution_count": 3,
   "id": "2f146d08",
   "metadata": {},
   "outputs": [
    {
     "name": "stdout",
     "output_type": "stream",
     "text": [
      "Total number of E is: 3\n"
     ]
    }
   ],
   "source": [
    "name = \"Eketi Edem Edet\"\n",
    "count = 0\n",
    "for i in name:\n",
    "    if i != 'E':\n",
    "        continue\n",
    "    else:\n",
    "        count = count + 1\n",
    "print('Total number of E is:', count)"
   ]
  },
  {
   "cell_type": "markdown",
   "id": "c0cc62b6",
   "metadata": {},
   "source": [
    "### using the pass statement in for loop"
   ]
  },
  {
   "cell_type": "code",
   "execution_count": 15,
   "id": "d3c8dd1b",
   "metadata": {},
   "outputs": [],
   "source": [
    "num = [1, 4, 5, 3, 7, 8]\n",
    "for i in num:\n",
    "    pass"
   ]
  },
  {
   "cell_type": "markdown",
   "id": "cd294bfa",
   "metadata": {},
   "source": [
    "### using the Else block in for loop"
   ]
  },
  {
   "cell_type": "code",
   "execution_count": 16,
   "id": "34fbc7a5",
   "metadata": {},
   "outputs": [
    {
     "name": "stdout",
     "output_type": "stream",
     "text": [
      "1\n",
      "2\n",
      "3\n",
      "4\n",
      "5\n",
      "Done\n"
     ]
    }
   ],
   "source": [
    "for i in range(1, 6):\n",
    "    print(i)\n",
    "else:\n",
    "    print(\"Done\")"
   ]
  },
  {
   "cell_type": "code",
   "execution_count": 18,
   "id": "9ac333cf",
   "metadata": {},
   "outputs": [
    {
     "name": "stdout",
     "output_type": "stream",
     "text": [
      "1\n",
      "2\n"
     ]
    }
   ],
   "source": [
    "count = 0\n",
    "for i in range(1, 6):\n",
    "    count = count + 1\n",
    "    if count > 2:\n",
    "        break\n",
    "    else:\n",
    "        print(i)\n",
    "else:\n",
    "    print(\"Done\")"
   ]
  },
  {
   "cell_type": "markdown",
   "id": "f1569bb1",
   "metadata": {},
   "source": [
    "## using reverse in for loop"
   ]
  },
  {
   "cell_type": "code",
   "execution_count": 19,
   "id": "aea9ce5a",
   "metadata": {},
   "outputs": [
    {
     "name": "stdout",
     "output_type": "stream",
     "text": [
      "40\n",
      "30\n",
      "20\n",
      "10\n"
     ]
    }
   ],
   "source": [
    "list = [10, 20, 30, 40]\n",
    "for i in reversed(list):\n",
    "    print(i)"
   ]
  },
  {
   "cell_type": "code",
   "execution_count": 21,
   "id": "b12b84ea",
   "metadata": {},
   "outputs": [
    {
     "name": "stdout",
     "output_type": "stream",
     "text": [
      "Reverse numbers using for loop\n",
      "5\n",
      "4\n",
      "3\n",
      "2\n",
      "1\n",
      "0\n"
     ]
    }
   ],
   "source": [
    "print(\"Reverse numbers using for loop\")\n",
    "num = 5\n",
    "for num in (range(num, -1, -1)):\n",
    "    print(num)"
   ]
  },
  {
   "cell_type": "code",
   "execution_count": 22,
   "id": "4f691769",
   "metadata": {},
   "outputs": [
    {
     "name": "stdout",
     "output_type": "stream",
     "text": [
      "4\n",
      "3\n",
      "2\n",
      "1\n"
     ]
    }
   ],
   "source": [
    "nums = [1, 2, 3, 4]\n",
    "for i in nums[:: -1]:\n",
    "    print(i)"
   ]
  },
  {
   "cell_type": "markdown",
   "id": "d27febb3",
   "metadata": {},
   "source": [
    "## Nested loops"
   ]
  },
  {
   "cell_type": "code",
   "execution_count": 23,
   "id": "9d68483e",
   "metadata": {},
   "outputs": [
    {
     "name": "stdout",
     "output_type": "stream",
     "text": [
      "* \n",
      "* * \n",
      "* * * \n",
      "* * * * \n",
      "* * * * * \n"
     ]
    }
   ],
   "source": [
    "rows = 5\n",
    "for i in range(1, rows + 1):\n",
    "    for j in range(1, i + 1):\n",
    "        print(\"*\", end=\" \")\n",
    "    print('')"
   ]
  },
  {
   "cell_type": "code",
   "execution_count": 28,
   "id": "dc7e5e64",
   "metadata": {},
   "outputs": [
    {
     "name": "stdout",
     "output_type": "stream",
     "text": [
      "multiplication table of: 1\n",
      "12345678910\n",
      "\n",
      "multiplication table of: 2\n",
      "2468101214161820\n",
      "\n",
      "multiplication table of: 3\n",
      "36912151821242730\n",
      "\n",
      "multiplication table of: 4\n",
      "481216202428323640\n",
      "\n",
      "multiplication table of: 5\n",
      "5101520253035404550\n",
      "\n"
     ]
    }
   ],
   "source": [
    "for i in range(1, 6):\n",
    "    print('multiplication table of:', i)\n",
    "    count = 1\n",
    "    while count < 11:\n",
    "        print(i * count, end='')\n",
    "        count = count + 1\n",
    "    print('\\n')"
   ]
  },
  {
   "cell_type": "code",
   "execution_count": 29,
   "id": "12903d23",
   "metadata": {},
   "outputs": [
    {
     "name": "stdout",
     "output_type": "stream",
     "text": [
      "[2, 6, 8, 10]\n"
     ]
    }
   ],
   "source": [
    "odd = [1, 5, 7, 9]\n",
    "even = [i + 1 for i in odd if i % 2 == 1]\n",
    "print(even)"
   ]
  },
  {
   "cell_type": "code",
   "execution_count": null,
   "id": "e575a791",
   "metadata": {},
   "outputs": [],
   "source": []
  },
  {
   "cell_type": "code",
   "execution_count": null,
   "id": "3a91230f",
   "metadata": {},
   "outputs": [],
   "source": []
  }
 ],
 "metadata": {
  "kernelspec": {
   "display_name": "Python 3 (ipykernel)",
   "language": "python",
   "name": "python3"
  },
  "language_info": {
   "codemirror_mode": {
    "name": "ipython",
    "version": 3
   },
   "file_extension": ".py",
   "mimetype": "text/x-python",
   "name": "python",
   "nbconvert_exporter": "python",
   "pygments_lexer": "ipython3",
   "version": "3.9.7"
  }
 },
 "nbformat": 4,
 "nbformat_minor": 5
}
