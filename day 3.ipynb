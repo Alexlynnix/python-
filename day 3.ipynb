{
 "cells": [
  {
   "cell_type": "code",
   "execution_count": 3,
   "id": "6cf0ca21",
   "metadata": {},
   "outputs": [
    {
     "name": "stdout",
     "output_type": "stream",
     "text": [
      "[20, 35.1]\n"
     ]
    }
   ],
   "source": [
    "y = [\"jude\", \"thelma\", True, \"yes\", 20, 35.1]\n",
    "strng = []\n",
    "numbers =[]\n",
    "booleans = []\n",
    "for i in y:\n",
    "    if type(i) == str:\n",
    "        strng.append(i)\n",
    "    elif type(i) == bool:\n",
    "            booleans.append(i)\n",
    "    else:\n",
    "            numbers.append(i)\n",
    "print(numbers)\n"
   ]
  },
  {
   "cell_type": "code",
   "execution_count": 4,
   "id": "f8addbc2",
   "metadata": {},
   "outputs": [
    {
     "name": "stdout",
     "output_type": "stream",
     "text": [
      "[1.0, 1.7320508075688772, 2.23606797749979, 2.6457513110645907, 3.0, 3.3166247903554, 3.605551275463989, 3.872983346207417, 4.123105625617661, 4.358898943540674, 4.58257569495584, 4.795831523312719, 5.0, 5.196152422706632, 5.385164807134504, 5.5677643628300215, 5.744562646538029, 5.916079783099616, 6.082762530298219, 6.244997998398398, 6.4031242374328485, 6.557438524302, 6.708203932499369, 6.855654600401044, 7.0]\n"
     ]
    }
   ],
   "source": [
    "vals = []\n",
    "for i in range(1, 50+1):\n",
    "    if i%2 !=0:\n",
    "        a = i **(1/2)\n",
    "        vals.append(a)\n",
    "print(vals)"
   ]
  },
  {
   "cell_type": "code",
   "execution_count": 5,
   "id": "a474ceb6",
   "metadata": {},
   "outputs": [
    {
     "name": "stdout",
     "output_type": "stream",
     "text": [
      "[1.0, 1.7320508075688772, 2.23606797749979, 2.6457513110645907, 3.0, 3.3166247903554, 3.605551275463989, 3.872983346207417, 4.123105625617661, 4.358898943540674, 4.58257569495584, 4.795831523312719, 5.0, 5.196152422706632, 5.385164807134504, 5.5677643628300215, 5.744562646538029, 5.916079783099616, 6.082762530298219, 6.244997998398398, 6.4031242374328485, 6.557438524302, 6.708203932499369, 6.855654600401044, 7.0]\n"
     ]
    }
   ],
   "source": [
    "number_vals =[(i**(1/2)) for i in range(1, 50+1) if i%2!=0]\n",
    "print(number_vals)"
   ]
  },
  {
   "cell_type": "code",
   "execution_count": 6,
   "id": "16c16d6e",
   "metadata": {},
   "outputs": [
    {
     "name": "stdout",
     "output_type": "stream",
     "text": [
      "4.7172\n"
     ]
    }
   ],
   "source": [
    "sum_val = 0\n",
    "for i in number_vals:\n",
    "    sum_val = sum_val + i\n",
    "total_sum = round((sum_val), 2)\n",
    "mean = total_sum/len(number_vals)\n",
    "print(mean)"
   ]
  },
  {
   "cell_type": "code",
   "execution_count": 7,
   "id": "61789fa2",
   "metadata": {},
   "outputs": [
    {
     "name": "stdout",
     "output_type": "stream",
     "text": [
      "4\n"
     ]
    }
   ],
   "source": [
    "vals = [10, 12.5, 8, 9.5, 6, 11.5, 7, 4]\n",
    "pos = vals[0]\n",
    "for i in vals:\n",
    "    if i < pos:\n",
    "        pos =i\n",
    "print(pos)"
   ]
  },
  {
   "cell_type": "code",
   "execution_count": 10,
   "id": "be3c0f90",
   "metadata": {},
   "outputs": [
    {
     "name": "stdout",
     "output_type": "stream",
     "text": [
      "[5, 6, 8, 9]\n"
     ]
    }
   ],
   "source": [
    "x = [10, 15, 20, 30]\n",
    "u = [15, 21, 28, 39]\n",
    "diff = []\n",
    "if len(x) == len(u):\n",
    "    for i in range(0, len(u)):\n",
    "        diff_val = u[i] - x[i]\n",
    "        diff.append(diff_val)\n",
    "    print(diff)"
   ]
  },
  {
   "cell_type": "code",
   "execution_count": 10,
   "id": "d479812d",
   "metadata": {},
   "outputs": [
    {
     "name": "stdout",
     "output_type": "stream",
     "text": [
      "75\n"
     ]
    }
   ],
   "source": [
    "p = [10, 15, 20, 30]\n",
    "sum_p = 0\n",
    "for i in p:\n",
    "    sum_p = sum_p + i\n",
    "print(sum_p)\n",
    "\n"
   ]
  },
  {
   "cell_type": "code",
   "execution_count": 56,
   "id": "34203b96",
   "metadata": {},
   "outputs": [
    {
     "name": "stdout",
     "output_type": "stream",
     "text": [
      "18.75\n"
     ]
    }
   ],
   "source": [
    "mean_p = sum_p/len(p)\n",
    "print(mean_p)"
   ]
  },
  {
   "cell_type": "code",
   "execution_count": 91,
   "id": "e97a918b",
   "metadata": {},
   "outputs": [
    {
     "name": "stdout",
     "output_type": "stream",
     "text": [
      "7.37\n"
     ]
    }
   ],
   "source": [
    "std_dev = round((sum_p_i/len(p))**(1/2), 2)\n",
    "print(std_dev)"
   ]
  },
  {
   "cell_type": "raw",
   "id": "49bfbaab",
   "metadata": {},
   "source": [
    "p_i = []\n",
    "for i in p:\n",
    "    q = i - mean_p\n",
    "    k = int((q**2))\n",
    "    p_i.append(k)\n",
    "print(p_i)"
   ]
  },
  {
   "cell_type": "code",
   "execution_count": 89,
   "id": "48411875",
   "metadata": {},
   "outputs": [
    {
     "name": "stdout",
     "output_type": "stream",
     "text": [
      "217\n"
     ]
    }
   ],
   "source": [
    "sum_p_i = 0\n",
    "for i in p_i:\n",
    "    sum_p_i = sum_p_i + i\n",
    "print(sum_p_i)"
   ]
  },
  {
   "cell_type": "code",
   "execution_count": 40,
   "id": "ebfa4c2f",
   "metadata": {},
   "outputs": [
    {
     "name": "stdout",
     "output_type": "stream",
     "text": [
      "['192', '168', '120', '15']\n",
      "['221', '124', '127', '50']\n",
      "['101', '124', '56', '12']\n",
      "['221.124.127.50']\n"
     ]
    }
   ],
   "source": [
    "ip_addr = [\"192.168.120.15\", \"221.124.127.50\", \"101.124.56.12\"]\n",
    "lst = []\n",
    "for i in ip_addr:\n",
    "    print(i.split(\".\"))\n",
    "    a = int(i.split(\".\")[-1])\n",
    "    if a >= 30 and a <= 50:\n",
    "        lst.append(i)\n",
    "print(lst)"
   ]
  },
  {
   "cell_type": "code",
   "execution_count": 2,
   "id": "41195b1d",
   "metadata": {},
   "outputs": [
    {
     "name": "stdout",
     "output_type": "stream",
     "text": [
      "[[1, 2, 3], [4, 5, 6], [7, 8, 9]]\n"
     ]
    }
   ],
   "source": [
    "m = [[1, 2, 3],\n",
    "    [4, 5, 6],\n",
    "    [7, 8, 9]]\n",
    "print(m)"
   ]
  },
  {
   "cell_type": "code",
   "execution_count": 4,
   "id": "6b71b71f",
   "metadata": {},
   "outputs": [
    {
     "name": "stdout",
     "output_type": "stream",
     "text": [
      "1\n",
      "4\n",
      "7 8 9 "
     ]
    }
   ],
   "source": [
    "for i in range(0, len(m)):\n",
    "    if i != len(m) - 1:\n",
    "        print(m[i][0])\n",
    "    else:\n",
    "        for n in range(0, len(m[i])):\n",
    "            print(m[i][n], end = \" \")"
   ]
  },
  {
   "cell_type": "code",
   "execution_count": 5,
   "id": "66c91d7c",
   "metadata": {},
   "outputs": [
    {
     "name": "stdout",
     "output_type": "stream",
     "text": [
      "1\n",
      "\t5\n",
      "\t\t9\n"
     ]
    }
   ],
   "source": [
    "for i in range(0, len(m)):\n",
    "    print(end = \"\\t\" * i)\n",
    "    print(m[i][i])"
   ]
  },
  {
   "cell_type": "code",
   "execution_count": 7,
   "id": "c2526787",
   "metadata": {},
   "outputs": [
    {
     "name": "stdout",
     "output_type": "stream",
     "text": [
      "3\n",
      "\t5\n",
      "\t\t7\n"
     ]
    }
   ],
   "source": [
    "for i in range(0, len(m)):\n",
    "    print(end = \"\\t\" * i)\n",
    "    print(m[i][(i + 1) * -1])"
   ]
  },
  {
   "cell_type": "code",
   "execution_count": 8,
   "id": "0549ba00",
   "metadata": {},
   "outputs": [
    {
     "name": "stdout",
     "output_type": "stream",
     "text": [
      "\t\t\t3\n",
      "\t\t5\n",
      "\t7\n"
     ]
    }
   ],
   "source": [
    "for i in range(len(m), 0, -1):\n",
    "    print(end =\"\\t\" * i)\n",
    "    print(m[i * -1][i - 1], end = \"\\n\")"
   ]
  },
  {
   "cell_type": "code",
   "execution_count": 18,
   "id": "8e4b7c9e",
   "metadata": {},
   "outputs": [
    {
     "name": "stdout",
     "output_type": "stream",
     "text": [
      "1   3 \n",
      "  5   \n",
      "7   9 \n"
     ]
    }
   ],
   "source": [
    "for i in range(0, len(m)):\n",
    "    for j in range(0, len(m[i])):\n",
    "        if m[i][j] % 2 != 0:\n",
    "            print(m[i][j], end = \" \")\n",
    "        else:\n",
    "            print(\" \", end = \" \")\n",
    "    print()"
   ]
  },
  {
   "cell_type": "code",
   "execution_count": 92,
   "id": "59779fe4",
   "metadata": {},
   "outputs": [
    {
     "name": "stdout",
     "output_type": "stream",
     "text": [
      "[1, 4, 7]\n"
     ]
    }
   ],
   "source": [
    "aa = []\n",
    "for i in m:\n",
    "    aa.append(i[0])\n",
    "print(aa)\n"
   ]
  },
  {
   "cell_type": "code",
   "execution_count": null,
   "id": "69c2a1dd",
   "metadata": {},
   "outputs": [],
   "source": []
  },
  {
   "cell_type": "code",
   "execution_count": 43,
   "id": "c3a005f5",
   "metadata": {},
   "outputs": [
    {
     "name": "stdout",
     "output_type": "stream",
     "text": [
      "[1, 2, 3]\n",
      "[4, 5, 6]\n",
      "[7, 8, 9]\n"
     ]
    }
   ],
   "source": [
    "for i in m:\n",
    "    print(i)"
   ]
  },
  {
   "cell_type": "code",
   "execution_count": 44,
   "id": "8dfebe06",
   "metadata": {},
   "outputs": [
    {
     "name": "stdout",
     "output_type": "stream",
     "text": [
      "[[1, 2, 3], [4, 5, 6], [7, 8, 9]]\n"
     ]
    }
   ],
   "source": [
    "print(m)"
   ]
  },
  {
   "cell_type": "code",
   "execution_count": 45,
   "id": "5e0826c4",
   "metadata": {},
   "outputs": [
    {
     "name": "stdout",
     "output_type": "stream",
     "text": [
      "1\n",
      "5\n",
      "9\n"
     ]
    }
   ],
   "source": [
    "for i in range(0, len(m)):\n",
    "    print(m[i][i])"
   ]
  },
  {
   "cell_type": "code",
   "execution_count": 48,
   "id": "15677aca",
   "metadata": {},
   "outputs": [
    {
     "name": "stdout",
     "output_type": "stream",
     "text": [
      "[3, 5, 9, 3, 7, 10]\n"
     ]
    }
   ],
   "source": [
    "a = [1, 3, 5, 9, 3, 7, 10]\n",
    "print(a[a.index(3):])"
   ]
  },
  {
   "cell_type": "code",
   "execution_count": null,
   "id": "d563b1d7",
   "metadata": {},
   "outputs": [],
   "source": []
  },
  {
   "cell_type": "code",
   "execution_count": null,
   "id": "e7bdec0e",
   "metadata": {},
   "outputs": [],
   "source": []
  }
 ],
 "metadata": {
  "kernelspec": {
   "display_name": "Python 3 (ipykernel)",
   "language": "python",
   "name": "python3"
  },
  "language_info": {
   "codemirror_mode": {
    "name": "ipython",
    "version": 3
   },
   "file_extension": ".py",
   "mimetype": "text/x-python",
   "name": "python",
   "nbconvert_exporter": "python",
   "pygments_lexer": "ipython3",
   "version": "3.9.7"
  }
 },
 "nbformat": 4,
 "nbformat_minor": 5
}
