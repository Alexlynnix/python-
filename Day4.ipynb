{
 "cells": [
  {
   "cell_type": "code",
   "execution_count": 32,
   "id": "86d84d34",
   "metadata": {},
   "outputs": [
    {
     "name": "stdout",
     "output_type": "stream",
     "text": [
      "['hello', 'Thanks', 'hi', 'go here']\n"
     ]
    }
   ],
   "source": [
    "file_path = \"C:/Users/alexl/Documents/Python Scripts/Python_class/data_files/new_text.txt\"\n",
    "with open(file_path, \"r\") as file:\n",
    "    r_file = file.read().split(\"\\n\")\n",
    "    print(r_file)"
   ]
  },
  {
   "cell_type": "code",
   "execution_count": 33,
   "id": "926c2a06",
   "metadata": {},
   "outputs": [],
   "source": [
    "import os"
   ]
  },
  {
   "cell_type": "code",
   "execution_count": 34,
   "id": "c84f586e",
   "metadata": {},
   "outputs": [
    {
     "name": "stdout",
     "output_type": "stream",
     "text": [
      "['test_folder', 'train_folder']\n"
     ]
    }
   ],
   "source": []
  },
  {
   "cell_type": "code",
   "execution_count": 50,
   "id": "9c6c57f7",
   "metadata": {},
   "outputs": [
    {
     "name": "stdout",
     "output_type": "stream",
     "text": [
      "['test_folder', 'train_folder']\n",
      "['test_series.txt']\n",
      "C:/Users/alexl/Documents/Python Scripts/Python_class/new_data/test_folder/test_series.txt\n",
      "['number_series.txt']\n",
      "C:/Users/alexl/Documents/Python Scripts/Python_class/new_data/train_folder/number_series.txt\n",
      "[['1', '2', '4', '5', '6', '9'], ['1', '2', '3', '4', '5', '6', '7']]\n"
     ]
    }
   ],
   "source": [
    "all_data = []\n",
    "path = \"C:/Users/alexl/Documents/Python Scripts/Python_class/new_data\"\n",
    "list_path = os.listdir(path)\n",
    "print(list_path)\n",
    "for i in list_path:\n",
    "    path_file = path + \"/\" + i\n",
    "    file_val = os.listdir(path_file)\n",
    "    print(file_val)\n",
    "    new_path = path_file + \"/\" + file_val[-1]\n",
    "    print(new_path)\n",
    "    with open(new_path, \"r\")as file:\n",
    "        a = file.read().split()\n",
    "        all_data.append(a)\n",
    "print(all_data)"
   ]
  },
  {
   "cell_type": "code",
   "execution_count": 44,
   "id": "8641b1dd",
   "metadata": {},
   "outputs": [
    {
     "name": "stdout",
     "output_type": "stream",
     "text": [
      "C:/Users/alexl/Documents/Python Scripts/Python_class/new_data/train_folder/number_series.txt\n"
     ]
    }
   ],
   "source": [
    "   "
   ]
  },
  {
   "cell_type": "code",
   "execution_count": 46,
   "id": "59a85581",
   "metadata": {},
   "outputs": [
    {
     "name": "stdout",
     "output_type": "stream",
     "text": [
      "[['1', '2', '3', '4', '5', '6', '7'], ['1', '2', '3', '4', '5', '6', '7']]\n"
     ]
    }
   ],
   "source": [
    "  "
   ]
  },
  {
   "cell_type": "code",
   "execution_count": 61,
   "id": "9ca92938",
   "metadata": {},
   "outputs": [
    {
     "name": "stdout",
     "output_type": "stream",
     "text": [
      "[1.0, 2.0, 4.0, 5.0, 6.0, 9.0]\n",
      "[1.0, 2.0, 3.0, 4.0, 5.0, 6.0, 7.0]\n",
      "[[1.0, 2.0, 4.0, 5.0, 6.0, 9.0], [1.0, 2.0, 3.0, 4.0, 5.0, 6.0, 7.0]]\n"
     ]
    }
   ],
   "source": [
    "new_data = []\n",
    "for i in all_data:\n",
    "    a_b = []\n",
    "    for n in i:\n",
    "        b = float(n)\n",
    "        a_b.append(b)\n",
    "    print(a_b)\n",
    "# to make it a matrix    \n",
    "    new_data.append(a_b)\n",
    "print(new_data)"
   ]
  },
  {
   "cell_type": "code",
   "execution_count": 48,
   "id": "fcea9270",
   "metadata": {},
   "outputs": [
    {
     "name": "stdout",
     "output_type": "stream",
     "text": [
      "[[1.0, 2.0, 3.0, 4.0, 5.0, 6.0, 7.0]]\n"
     ]
    }
   ],
   "source": []
  },
  {
   "cell_type": "code",
   "execution_count": 62,
   "id": "8091003b",
   "metadata": {},
   "outputs": [
    {
     "name": "stdout",
     "output_type": "stream",
     "text": [
      "[6, 7]\n"
     ]
    }
   ],
   "source": [
    "length = []\n",
    "for i in new_data:\n",
    "    length.append(len(i))\n",
    "print(length)"
   ]
  },
  {
   "cell_type": "code",
   "execution_count": null,
   "id": "62d7fe32",
   "metadata": {},
   "outputs": [],
   "source": [
    "mx = max(length)\n",
    "data_val = []\n",
    "for i in new_data:\n",
    "    if len(i) < mx:\n",
    "        i.append(2.5) # append 2.5 to i\n",
    "    data_val.append(i)\n",
    "print(data_val)"
   ]
  },
  {
   "cell_type": "code",
   "execution_count": 70,
   "id": "083ffab5",
   "metadata": {},
   "outputs": [
    {
     "name": "stdout",
     "output_type": "stream",
     "text": [
      "commands\n",
      "Enter 1 => To write files\n",
      "Enter 0 => To delete backlogs\n",
      "Enter command: 1\n"
     ]
    }
   ],
   "source": [
    "pressure_file =\"C:/Users/alexl/Documents/Python Scripts/Python_class/new_data/pressure.txt\"\n",
    "print(\"\"\"commands\n",
    "Enter 1 => To write files\n",
    "Enter 0 => To delete backlogs\"\"\")\n",
    "command = input(\"Enter command: \")\n",
    "\n",
    "if command == \"1\":\n",
    "    with open(pressure_file, \"a\")as file:\n",
    "        for i in range(0, len(data_val[0])):\n",
    "            pas = data_val[0][i]/data_val[1][i]\n",
    "            file.write(f\"{pas}\\n\")\n",
    "elif command == \"0\":\n",
    "    with open(pressure_file, \"w\")as file:\n",
    "        file.write(\" \")\n",
    "else:\n",
    "    print(\"invalid input\")"
   ]
  },
  {
   "cell_type": "code",
   "execution_count": null,
   "id": "5afd2647",
   "metadata": {},
   "outputs": [],
   "source": []
  },
  {
   "cell_type": "code",
   "execution_count": null,
   "id": "bd51da1a",
   "metadata": {},
   "outputs": [],
   "source": []
  }
 ],
 "metadata": {
  "kernelspec": {
   "display_name": "Python 3 (ipykernel)",
   "language": "python",
   "name": "python3"
  },
  "language_info": {
   "codemirror_mode": {
    "name": "ipython",
    "version": 3
   },
   "file_extension": ".py",
   "mimetype": "text/x-python",
   "name": "python",
   "nbconvert_exporter": "python",
   "pygments_lexer": "ipython3",
   "version": "3.9.7"
  }
 },
 "nbformat": 4,
 "nbformat_minor": 5
}
