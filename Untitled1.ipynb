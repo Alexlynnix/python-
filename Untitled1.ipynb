{
 "cells": [
  {
   "cell_type": "code",
   "execution_count": 2,
   "id": "79a93745",
   "metadata": {},
   "outputs": [],
   "source": [
    "mkdir data_files"
   ]
  },
  {
   "cell_type": "code",
   "execution_count": 4,
   "id": "cbf7ccf8",
   "metadata": {},
   "outputs": [
    {
     "name": "stdout",
     "output_type": "stream",
     "text": [
      " Volume in drive C has no label.\n",
      " Volume Serial Number is E247-92AA\n",
      "\n",
      " Directory of C:\\Users\\alexl\\Documents\\Python Scripts\\Python_class\n",
      "\n",
      "06/20/2022  03:01 PM    <DIR>          .\n",
      "06/20/2022  03:01 PM    <DIR>          ..\n",
      "06/20/2022  02:21 PM    <DIR>          .ipynb_checkpoints\n",
      "06/20/2022  03:00 PM    <DIR>          data_files\n",
      "06/15/2022  10:02 PM             4,919 day 1.ipynb\n",
      "06/17/2022  03:59 PM            10,715 day 3.ipynb\n",
      "06/15/2022  10:10 PM             9,197 day2.ipynb\n",
      "06/20/2022  02:24 PM    <DIR>          new_data\n",
      "06/15/2022  10:07 PM    <DIR>          Untitled Folder\n",
      "06/20/2022  01:50 PM             2,063 Untitled.ipynb\n",
      "06/20/2022  03:01 PM             3,140 Untitled1.ipynb\n",
      "               5 File(s)         30,034 bytes\n",
      "               6 Dir(s)  49,794,637,824 bytes free\n"
     ]
    }
   ],
   "source": [
    "ls"
   ]
  },
  {
   "cell_type": "code",
   "execution_count": 10,
   "id": "d2e58e5d",
   "metadata": {},
   "outputs": [
    {
     "name": "stdout",
     "output_type": "stream",
     "text": [
      "[WinError 2] The system cannot find the file specified: 'new_data'\n",
      "C:\\Users\\alexl\\Documents\\Python Scripts\\Python_class\\data_files\n"
     ]
    }
   ],
   "source": [
    "cd new_data"
   ]
  },
  {
   "cell_type": "code",
   "execution_count": null,
   "id": "48130ea8",
   "metadata": {},
   "outputs": [],
   "source": []
  }
 ],
 "metadata": {
  "kernelspec": {
   "display_name": "Python 3 (ipykernel)",
   "language": "python",
   "name": "python3"
  },
  "language_info": {
   "codemirror_mode": {
    "name": "ipython",
    "version": 3
   },
   "file_extension": ".py",
   "mimetype": "text/x-python",
   "name": "python",
   "nbconvert_exporter": "python",
   "pygments_lexer": "ipython3",
   "version": "3.9.7"
  }
 },
 "nbformat": 4,
 "nbformat_minor": 5
}
