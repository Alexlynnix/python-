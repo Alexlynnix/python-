{
 "cells": [
  {
   "cell_type": "code",
   "execution_count": 1,
   "id": "0a961c5a",
   "metadata": {},
   "outputs": [
    {
     "name": "stdout",
     "output_type": "stream",
     "text": [
      "<class 'dict'>\n",
      "bola\n",
      "True\n"
     ]
    }
   ],
   "source": [
    "names = {\"name\": \"bola\", \"married\": True, \"salary\": 5000}\n",
    "print(type(names))\n",
    "print(names[\"name\"])\n",
    "print(names[\"married\"])"
   ]
  },
  {
   "cell_type": "code",
   "execution_count": 2,
   "id": "e8da1021",
   "metadata": {},
   "outputs": [
    {
     "name": "stdout",
     "output_type": "stream",
     "text": [
      "{'name': 'bola', 'married': True, 'salary': 5000, 'age': 45}\n"
     ]
    }
   ],
   "source": [
    "names[\"age\"] = 45\n",
    "print(names)"
   ]
  },
  {
   "cell_type": "code",
   "execution_count": 8,
   "id": "68604527",
   "metadata": {},
   "outputs": [
    {
     "name": "stdout",
     "output_type": "stream",
     "text": [
      "['name:bola', 'married:True', 'salary:5000', 'age:45']\n",
      "[['name', 'bola'], ['married', 'True'], ['salary', '5000'], ['age', '45']]\n"
     ]
    }
   ],
   "source": [
    "arr = []\n",
    "for i, l in names.items():\n",
    "    b = f\"{i}:{l}\"\n",
    "    arr.append(b)\n",
    "print(arr)\n",
    "arr1 = []\n",
    "for n in arr:\n",
    "    c = n.split(\":\")\n",
    "    arr1.append(c)\n",
    "print(arr1)"
   ]
  },
  {
   "cell_type": "code",
   "execution_count": 2,
   "id": "96bd2d72",
   "metadata": {},
   "outputs": [
    {
     "name": "stdout",
     "output_type": "stream",
     "text": [
      "[{'name': 'jake', 'age': 30, 'M': True}, {'name': 'fani', 'age': 20, 'M': True}, {'name': 'susan', 'age': 21, 'M': False}, {'name': 'Beeniel', 'age': 25, 'M': False}]\n",
      "<class 'list'>\n"
     ]
    }
   ],
   "source": [
    "dict_file = [{\"name\": \"jake\", \"age\":30, \"M\": True},\n",
    "            {\"name\": \"fani\", \"age\":20, \"M\": True},\n",
    "            {\"name\": \"susan\", \"age\":21, \"M\": False},\n",
    "            {\"name\": \"Beeniel\", \"age\":25, \"M\": False},\n",
    "            ]\n",
    "print(dict_file)\n",
    "print(type(dict_file))"
   ]
  },
  {
   "cell_type": "code",
   "execution_count": 3,
   "id": "f548a6bf",
   "metadata": {},
   "outputs": [
    {
     "name": "stdout",
     "output_type": "stream",
     "text": [
      "[{'name': 'jake', 'age': 30, 'M': True, 'salary': 5000}, {'name': 'fani', 'age': 20, 'M': True, 'salary': 5000}, {'name': 'susan', 'age': 21, 'M': False, 'salary': 5000}, {'name': 'Beeniel', 'age': 25, 'M': False, 'salary': 5000}]\n"
     ]
    }
   ],
   "source": [
    "# adding salary to the list\n",
    "dict2 = []\n",
    "for i in dict_file:\n",
    "    for a in range(0, len(i)):\n",
    "        c =i[\"salary\"] =5000\n",
    "    #print(i)\n",
    "    dict2.append(i)\n",
    "print(dict2)     \n",
    "    \n",
    "    "
   ]
  },
  {
   "cell_type": "code",
   "execution_count": 4,
   "id": "56cd8acd",
   "metadata": {},
   "outputs": [
    {
     "name": "stdout",
     "output_type": "stream",
     "text": [
      "[{'name': 'jake', 'age': 30, 'M': True, 'salary': 5000}, {'name': 'fani', 'age': 20, 'M': True, 'salary': 5000}]\n"
     ]
    }
   ],
   "source": [
    "# getting a list for only the married\n",
    "new_dict = []\n",
    "for k in dict2:\n",
    "    for c, d in k.items():\n",
    "        if c == \"M\" and d == True:\n",
    "            new_dict.append(k)\n",
    "print(new_dict)     "
   ]
  },
  {
   "cell_type": "code",
   "execution_count": 5,
   "id": "44d2e2ee",
   "metadata": {},
   "outputs": [
    {
     "name": "stdout",
     "output_type": "stream",
     "text": [
      "[{'name': 'jake', 'age': 30, 'M': True, 'salary': 5000}]\n"
     ]
    }
   ],
   "source": [
    "# a list for the married whose age is between 25 and 30\n",
    "age_dict = []\n",
    "for i in new_dict:\n",
    "    for e, f in i.items():\n",
    "        if e == \"age\" and f >= 25 <=30:\n",
    "            age_dict.append(i)\n",
    "print(age_dict)"
   ]
  },
  {
   "cell_type": "code",
   "execution_count": 6,
   "id": "80434b74",
   "metadata": {},
   "outputs": [
    {
     "name": "stdout",
     "output_type": "stream",
     "text": [
      "[{'name': 'jake', 'age': 30, 'M': True, 'salary': 5250.0}]\n"
     ]
    }
   ],
   "source": [
    "# adding 5% of the salary to their salary\n",
    "add_5 = []\n",
    "for i in age_dict:\n",
    "    for a, b in i.items():\n",
    "        if a == \"salary\" and b == 5000:\n",
    "            i[\"salary\"] = i[\"salary\"] + 5/100 * i[\"salary\"]\n",
    "    add_5.append(i)\n",
    "print(add_5)"
   ]
  },
  {
   "cell_type": "code",
   "execution_count": 7,
   "id": "1ce8c9e0",
   "metadata": {},
   "outputs": [
    {
     "name": "stdout",
     "output_type": "stream",
     "text": [
      "{'name': 'jake', 'age': 30, 'M': True, 'salary': 5250.0, 'Sex': 'female'}\n",
      "{'name': 'fani', 'age': 20, 'M': True, 'salary': 5000, 'Sex': 'female'}\n",
      "{'name': 'susan', 'age': 21, 'M': False, 'salary': 5000, 'Sex': 'female'}\n",
      "{'name': 'Beeniel', 'age': 25, 'M': False, 'salary': 5000, 'Sex': 'female'}\n"
     ]
    }
   ],
   "source": [
    "# adding 'sex' into the list\n",
    "for i in dict2:\n",
    "    i[\"Sex\"] = \"female\"\n",
    "    print(i)\n"
   ]
  },
  {
   "cell_type": "code",
   "execution_count": null,
   "id": "8ca924bd",
   "metadata": {},
   "outputs": [],
   "source": []
  },
  {
   "cell_type": "code",
   "execution_count": 11,
   "id": "fb7765f0",
   "metadata": {},
   "outputs": [
    {
     "name": "stdout",
     "output_type": "stream",
     "text": [
      "[{'name': 'jake', 'age': 30, 'M': True, 'salary': 5250.0, 'Sex': 'male'}, {'name': 'fani', 'age': 20, 'M': True, 'salary': 5000, 'Sex': 'male'}, {'name': 'susan', 'age': 21, 'M': False, 'salary': 5000, 'Sex': 'male'}, {'name': 'Beeniel', 'age': 25, 'M': False, 'salary': 5000, 'Sex': 'male'}]\n"
     ]
    }
   ],
   "source": [
    "\n",
    "sex_dict = []\n",
    "for i in dict2:\n",
    "    for a, b in i.items():\n",
    "        if a == \"Sex\" or b == \"fani\" or b == \"jake\":\n",
    "            i[\"Sex\"] = \"male\"\n",
    "    sex_dict.append(i)\n",
    "print(sex_dict)"
   ]
  },
  {
   "cell_type": "code",
   "execution_count": 72,
   "id": "71962267",
   "metadata": {},
   "outputs": [
    {
     "name": "stdout",
     "output_type": "stream",
     "text": [
      "[{'name': 'jake', 'age': 30, 'M': True, 'salary': 5250.0, 'sex': 'female'}, {'name': 'fani', 'age': 20, 'M': True, 'salary': 5000, 'sex': 'male'}]\n"
     ]
    }
   ],
   "source": [
    "married = []\n",
    "for i in sex_dict:\n",
    "    for a, b in i.items():\n",
    "        if a == \"M\" and b == True:\n",
    "            married.append(i)\n",
    "print(married)"
   ]
  },
  {
   "cell_type": "code",
   "execution_count": 70,
   "id": "bbce8012",
   "metadata": {},
   "outputs": [
    {
     "name": "stdout",
     "output_type": "stream",
     "text": [
      "[{'name': 'fani', 'age': 20, 'M': True, 'salary': 5000, 'sex': 'male'}]\n"
     ]
    }
   ],
   "source": [
    "marr_men = []\n",
    "for i in married:\n",
    "    for a, b in i.items():\n",
    "        if a == \"sex\" and b == \"male\":\n",
    "            marr_men.append(i)\n",
    "print(marr_men)\n",
    "        \n",
    "    "
   ]
  },
  {
   "cell_type": "code",
   "execution_count": 10,
   "id": "c735fa54",
   "metadata": {},
   "outputs": [
    {
     "name": "stdout",
     "output_type": "stream",
     "text": [
      "[{'name': 'jake', 'age': 30, 'M': True}, {'name': 'fani', 'age': 25, 'M': True}, {'name': 'susan', 'age': 21, 'M': False}, {'name': 'Beeniel', 'age': 25, 'M': False}]\n"
     ]
    }
   ],
   "source": [
    "new_list = []\n",
    "for a in dict_file:\n",
    "    for i, j in a.items():\n",
    "        if i == \"age\" and j <= 20:\n",
    "            a[\"age\"] = a[\"age\"] + 5\n",
    "    new_list.append(a)\n",
    "print(new_list)"
   ]
  },
  {
   "cell_type": "code",
   "execution_count": 12,
   "id": "39e02dae",
   "metadata": {},
   "outputs": [],
   "source": [
    "import pandas as pd\n",
    "df = pd.DataFrame(new_list)\n",
    "df.to_csv(\"foolish_file2.csv\", index=False)"
   ]
  },
  {
   "cell_type": "code",
   "execution_count": 13,
   "id": "134c1c8b",
   "metadata": {},
   "outputs": [
    {
     "name": "stdout",
     "output_type": "stream",
     "text": [
      "[['name', 'age', 'm'], ['john', 34, True], ['mike', 25, False]]\n"
     ]
    }
   ],
   "source": [
    "a_m = [[\"name\", \"age\", \"m\"], [\"john\", 34, True], [\"mike\", 25, False]]\n",
    "print(a_m)"
   ]
  },
  {
   "cell_type": "code",
   "execution_count": 14,
   "id": "28495141",
   "metadata": {},
   "outputs": [
    {
     "name": "stdout",
     "output_type": "stream",
     "text": [
      "<zip object at 0x000001CEF06DA080>\n"
     ]
    }
   ],
   "source": [
    "a = ['name', 'age', 'm']\n",
    "b = ['john', 34, True]\n",
    "z = zip(a, b)\n",
    "print(z)"
   ]
  },
  {
   "cell_type": "code",
   "execution_count": 15,
   "id": "39174edf",
   "metadata": {},
   "outputs": [
    {
     "data": {
      "text/html": [
       "<div>\n",
       "<style scoped>\n",
       "    .dataframe tbody tr th:only-of-type {\n",
       "        vertical-align: middle;\n",
       "    }\n",
       "\n",
       "    .dataframe tbody tr th {\n",
       "        vertical-align: top;\n",
       "    }\n",
       "\n",
       "    .dataframe thead tr th {\n",
       "        text-align: left;\n",
       "    }\n",
       "</style>\n",
       "<table border=\"1\" class=\"dataframe\">\n",
       "  <thead>\n",
       "    <tr>\n",
       "      <th></th>\n",
       "      <th>name</th>\n",
       "      <th>age</th>\n",
       "      <th>m</th>\n",
       "    </tr>\n",
       "  </thead>\n",
       "  <tbody>\n",
       "    <tr>\n",
       "      <th>0</th>\n",
       "      <td>name</td>\n",
       "      <td>age</td>\n",
       "      <td>m</td>\n",
       "    </tr>\n",
       "    <tr>\n",
       "      <th>1</th>\n",
       "      <td>john</td>\n",
       "      <td>34</td>\n",
       "      <td>True</td>\n",
       "    </tr>\n",
       "    <tr>\n",
       "      <th>2</th>\n",
       "      <td>mike</td>\n",
       "      <td>25</td>\n",
       "      <td>False</td>\n",
       "    </tr>\n",
       "  </tbody>\n",
       "</table>\n",
       "</div>"
      ],
      "text/plain": [
       "   name  age      m\n",
       "0  name  age      m\n",
       "1  john   34   True\n",
       "2  mike   25  False"
      ]
     },
     "execution_count": 15,
     "metadata": {},
     "output_type": "execute_result"
    }
   ],
   "source": [
    "l_df = pd.DataFrame(a_m, columns=[a_m[0]])\n",
    "l_df"
   ]
  },
  {
   "cell_type": "code",
   "execution_count": 90,
   "id": "dbc2bf93",
   "metadata": {},
   "outputs": [],
   "source": [
    "path = \"C:/Users/alexl/Documents/Python Scripts/usa_gov.txt\"\n",
    "arr = []\n",
    "with open(path, \"r\") as file:\n",
    "     my_file = file.read()\n",
    "arr.append(my_file)\n",
    "#print(arr)"
   ]
  },
  {
   "cell_type": "code",
   "execution_count": 93,
   "id": "5e884396",
   "metadata": {},
   "outputs": [],
   "source": [
    "import json\n",
    "records = [json.loads(line) for line in open(path)]\n",
    "#print(records)\n",
    "##list comprehension\n",
    "    ##OR##\n",
    "record = []\n",
    "for i in open(path):\n",
    "    b = json.loads(i)\n",
    "    record.append(b)\n",
    "print(record[:5])\n",
    "\n",
    "\n",
    "\n",
    "a_arr = []\n",
    "for n in records:\n",
    "    if \"a\" in n:\n",
    "        y = n[\"a\"]\n",
    "        a_arr.append(y)\n",
    "#print(a_arr)"
   ]
  },
  {
   "cell_type": "code",
   "execution_count": 94,
   "id": "abcd60b9",
   "metadata": {},
   "outputs": [
    {
     "name": "stdout",
     "output_type": "stream",
     "text": [
      "['America/New_York', 'America/Denver', 'America/New_York', 'America/Sao_Paulo', 'America/New_York', 'America/New_York', 'Europe/Warsaw', '', '', '', 'America/Los_Angeles', 'America/New_York', 'America/New_York', 'America/New_York', 'Asia/Hong_Kong', 'Asia/Hong_Kong', 'America/New_York', 'America/Denver', 'Europe/Rome', 'Africa/Ceuta']\n"
     ]
    }
   ],
   "source": [
    "new_arr = []\n",
    "for i in records:\n",
    "    if \"tz\" in i:\n",
    "        b = i[\"tz\"]\n",
    "        new_arr.append(b)\n",
    "print(new_arr[:20])"
   ]
  },
  {
   "cell_type": "code",
   "execution_count": 96,
   "id": "f584ed57",
   "metadata": {},
   "outputs": [
    {
     "name": "stdout",
     "output_type": "stream",
     "text": [
      "['America/New_York', 'America/Denver', 'America/New_York', 'America/Sao_Paulo', 'America/New_York', 'America/New_York', 'Europe/Warsaw', '', '', '', 'America/Los_Angeles', 'America/New_York', 'America/New_York', 'America/New_York', 'Asia/Hong_Kong', 'Asia/Hong_Kong', 'America/New_York', 'America/Denver', 'Europe/Rome', 'Africa/Ceuta', 'America/New_York', 'America/New_York', 'America/New_York', 'Europe/Madrid', 'Asia/Kuala_Lumpur', 'Asia/Nicosia', 'America/Sao_Paulo', '', '', 'Europe/London']\n"
     ]
    }
   ],
   "source": [
    "time_zones = [i['tz'] for i in records if 'tz' in i]\n",
    "print(time_zones[:30])"
   ]
  },
  {
   "cell_type": "code",
   "execution_count": 98,
   "id": "7bb34b97",
   "metadata": {},
   "outputs": [
    {
     "data": {
      "text/html": [
       "<div>\n",
       "<style scoped>\n",
       "    .dataframe tbody tr th:only-of-type {\n",
       "        vertical-align: middle;\n",
       "    }\n",
       "\n",
       "    .dataframe tbody tr th {\n",
       "        vertical-align: top;\n",
       "    }\n",
       "\n",
       "    .dataframe thead th {\n",
       "        text-align: right;\n",
       "    }\n",
       "</style>\n",
       "<table border=\"1\" class=\"dataframe\">\n",
       "  <thead>\n",
       "    <tr style=\"text-align: right;\">\n",
       "      <th></th>\n",
       "      <th>a</th>\n",
       "      <th>c</th>\n",
       "      <th>nk</th>\n",
       "      <th>tz</th>\n",
       "      <th>gr</th>\n",
       "      <th>g</th>\n",
       "      <th>h</th>\n",
       "      <th>l</th>\n",
       "      <th>al</th>\n",
       "      <th>hh</th>\n",
       "      <th>r</th>\n",
       "      <th>u</th>\n",
       "      <th>t</th>\n",
       "      <th>hc</th>\n",
       "      <th>cy</th>\n",
       "      <th>ll</th>\n",
       "      <th>_heartbeat_</th>\n",
       "      <th>kw</th>\n",
       "    </tr>\n",
       "  </thead>\n",
       "  <tbody>\n",
       "    <tr>\n",
       "      <th>0</th>\n",
       "      <td>Mozilla/5.0 (Windows NT 6.1; WOW64) AppleWebKi...</td>\n",
       "      <td>US</td>\n",
       "      <td>1.0</td>\n",
       "      <td>America/New_York</td>\n",
       "      <td>MA</td>\n",
       "      <td>A6qOVH</td>\n",
       "      <td>wfLQtf</td>\n",
       "      <td>orofrog</td>\n",
       "      <td>en-US,en;q=0.8</td>\n",
       "      <td>1.usa.gov</td>\n",
       "      <td>http://www.facebook.com/l/7AQEFzjSi/1.usa.gov/...</td>\n",
       "      <td>http://www.ncbi.nlm.nih.gov/pubmed/22415991</td>\n",
       "      <td>1.331923e+09</td>\n",
       "      <td>1.331823e+09</td>\n",
       "      <td>Danvers</td>\n",
       "      <td>[42.576698, -70.954903]</td>\n",
       "      <td>NaN</td>\n",
       "      <td>NaN</td>\n",
       "    </tr>\n",
       "    <tr>\n",
       "      <th>1</th>\n",
       "      <td>GoogleMaps/RochesterNY</td>\n",
       "      <td>US</td>\n",
       "      <td>0.0</td>\n",
       "      <td>America/Denver</td>\n",
       "      <td>UT</td>\n",
       "      <td>mwszkS</td>\n",
       "      <td>mwszkS</td>\n",
       "      <td>bitly</td>\n",
       "      <td>NaN</td>\n",
       "      <td>j.mp</td>\n",
       "      <td>http://www.AwareMap.com/</td>\n",
       "      <td>http://www.monroecounty.gov/etc/911/rss.php</td>\n",
       "      <td>1.331923e+09</td>\n",
       "      <td>1.308262e+09</td>\n",
       "      <td>Provo</td>\n",
       "      <td>[40.218102, -111.613297]</td>\n",
       "      <td>NaN</td>\n",
       "      <td>NaN</td>\n",
       "    </tr>\n",
       "    <tr>\n",
       "      <th>2</th>\n",
       "      <td>Mozilla/4.0 (compatible; MSIE 8.0; Windows NT ...</td>\n",
       "      <td>US</td>\n",
       "      <td>1.0</td>\n",
       "      <td>America/New_York</td>\n",
       "      <td>DC</td>\n",
       "      <td>xxr3Qb</td>\n",
       "      <td>xxr3Qb</td>\n",
       "      <td>bitly</td>\n",
       "      <td>en-US</td>\n",
       "      <td>1.usa.gov</td>\n",
       "      <td>http://t.co/03elZC4Q</td>\n",
       "      <td>http://boxer.senate.gov/en/press/releases/0316...</td>\n",
       "      <td>1.331923e+09</td>\n",
       "      <td>1.331920e+09</td>\n",
       "      <td>Washington</td>\n",
       "      <td>[38.9007, -77.043098]</td>\n",
       "      <td>NaN</td>\n",
       "      <td>NaN</td>\n",
       "    </tr>\n",
       "    <tr>\n",
       "      <th>3</th>\n",
       "      <td>Mozilla/5.0 (Macintosh; Intel Mac OS X 10_6_8)...</td>\n",
       "      <td>BR</td>\n",
       "      <td>0.0</td>\n",
       "      <td>America/Sao_Paulo</td>\n",
       "      <td>27</td>\n",
       "      <td>zCaLwp</td>\n",
       "      <td>zUtuOu</td>\n",
       "      <td>alelex88</td>\n",
       "      <td>pt-br</td>\n",
       "      <td>1.usa.gov</td>\n",
       "      <td>direct</td>\n",
       "      <td>http://apod.nasa.gov/apod/ap120312.html</td>\n",
       "      <td>1.331923e+09</td>\n",
       "      <td>1.331923e+09</td>\n",
       "      <td>Braz</td>\n",
       "      <td>[-23.549999, -46.616699]</td>\n",
       "      <td>NaN</td>\n",
       "      <td>NaN</td>\n",
       "    </tr>\n",
       "    <tr>\n",
       "      <th>4</th>\n",
       "      <td>Mozilla/5.0 (Windows NT 6.1; WOW64) AppleWebKi...</td>\n",
       "      <td>US</td>\n",
       "      <td>0.0</td>\n",
       "      <td>America/New_York</td>\n",
       "      <td>MA</td>\n",
       "      <td>9b6kNl</td>\n",
       "      <td>9b6kNl</td>\n",
       "      <td>bitly</td>\n",
       "      <td>en-US,en;q=0.8</td>\n",
       "      <td>bit.ly</td>\n",
       "      <td>http://www.shrewsbury-ma.gov/selco/</td>\n",
       "      <td>http://www.shrewsbury-ma.gov/egov/gallery/1341...</td>\n",
       "      <td>1.331923e+09</td>\n",
       "      <td>1.273672e+09</td>\n",
       "      <td>Shrewsbury</td>\n",
       "      <td>[42.286499, -71.714699]</td>\n",
       "      <td>NaN</td>\n",
       "      <td>NaN</td>\n",
       "    </tr>\n",
       "  </tbody>\n",
       "</table>\n",
       "</div>"
      ],
      "text/plain": [
       "                                                   a   c   nk  \\\n",
       "0  Mozilla/5.0 (Windows NT 6.1; WOW64) AppleWebKi...  US  1.0   \n",
       "1                             GoogleMaps/RochesterNY  US  0.0   \n",
       "2  Mozilla/4.0 (compatible; MSIE 8.0; Windows NT ...  US  1.0   \n",
       "3  Mozilla/5.0 (Macintosh; Intel Mac OS X 10_6_8)...  BR  0.0   \n",
       "4  Mozilla/5.0 (Windows NT 6.1; WOW64) AppleWebKi...  US  0.0   \n",
       "\n",
       "                  tz  gr       g       h         l              al         hh  \\\n",
       "0   America/New_York  MA  A6qOVH  wfLQtf   orofrog  en-US,en;q=0.8  1.usa.gov   \n",
       "1     America/Denver  UT  mwszkS  mwszkS     bitly             NaN       j.mp   \n",
       "2   America/New_York  DC  xxr3Qb  xxr3Qb     bitly           en-US  1.usa.gov   \n",
       "3  America/Sao_Paulo  27  zCaLwp  zUtuOu  alelex88           pt-br  1.usa.gov   \n",
       "4   America/New_York  MA  9b6kNl  9b6kNl     bitly  en-US,en;q=0.8     bit.ly   \n",
       "\n",
       "                                                   r  \\\n",
       "0  http://www.facebook.com/l/7AQEFzjSi/1.usa.gov/...   \n",
       "1                           http://www.AwareMap.com/   \n",
       "2                               http://t.co/03elZC4Q   \n",
       "3                                             direct   \n",
       "4                http://www.shrewsbury-ma.gov/selco/   \n",
       "\n",
       "                                                   u             t  \\\n",
       "0        http://www.ncbi.nlm.nih.gov/pubmed/22415991  1.331923e+09   \n",
       "1        http://www.monroecounty.gov/etc/911/rss.php  1.331923e+09   \n",
       "2  http://boxer.senate.gov/en/press/releases/0316...  1.331923e+09   \n",
       "3            http://apod.nasa.gov/apod/ap120312.html  1.331923e+09   \n",
       "4  http://www.shrewsbury-ma.gov/egov/gallery/1341...  1.331923e+09   \n",
       "\n",
       "             hc          cy                        ll  _heartbeat_   kw  \n",
       "0  1.331823e+09     Danvers   [42.576698, -70.954903]          NaN  NaN  \n",
       "1  1.308262e+09       Provo  [40.218102, -111.613297]          NaN  NaN  \n",
       "2  1.331920e+09  Washington     [38.9007, -77.043098]          NaN  NaN  \n",
       "3  1.331923e+09        Braz  [-23.549999, -46.616699]          NaN  NaN  \n",
       "4  1.273672e+09  Shrewsbury   [42.286499, -71.714699]          NaN  NaN  "
      ]
     },
     "execution_count": 98,
     "metadata": {},
     "output_type": "execute_result"
    }
   ],
   "source": [
    "df2 = pd.DataFrame(record)\n",
    "df2.head()"
   ]
  },
  {
   "cell_type": "code",
   "execution_count": null,
   "id": "eb3adc56",
   "metadata": {},
   "outputs": [],
   "source": []
  }
 ],
 "metadata": {
  "kernelspec": {
   "display_name": "Python 3 (ipykernel)",
   "language": "python",
   "name": "python3"
  },
  "language_info": {
   "codemirror_mode": {
    "name": "ipython",
    "version": 3
   },
   "file_extension": ".py",
   "mimetype": "text/x-python",
   "name": "python",
   "nbconvert_exporter": "python",
   "pygments_lexer": "ipython3",
   "version": "3.9.7"
  }
 },
 "nbformat": 4,
 "nbformat_minor": 5
}
